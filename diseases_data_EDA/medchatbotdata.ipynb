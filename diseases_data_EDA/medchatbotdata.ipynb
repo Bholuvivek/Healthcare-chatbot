{
  "cells": [
    {
      "cell_type": "code",
      "execution_count": 1,
      "id": "3a1f0d49",
      "metadata": {
        "id": "3a1f0d49"
      },
      "outputs": [],
      "source": [
        "import pandas as pd\n",
        "import re\n",
        "import numpy as np"
      ]
    },
    {
      "cell_type": "code",
      "execution_count": 2,
      "id": "6a8b4e0d",
      "metadata": {
        "id": "6a8b4e0d"
      },
      "outputs": [],
      "source": [
        "df1 = pd.read_csv('diseases.csv')\n",
        "df2 = pd.read_csv('symptom_Description.csv')"
      ]
    },
    {
      "cell_type": "code",
      "execution_count": 3,
      "id": "4f93b3fb",
      "metadata": {
        "id": "4f93b3fb",
        "outputId": "1a1e0847-183b-4c4d-8f5b-c92e4fdd9f48",
        "colab": {
          "base_uri": "https://localhost:8080/",
          "height": 354
        }
      },
      "outputs": [
        {
          "output_type": "execute_result",
          "data": {
            "text/plain": [
              "   Unnamed: 0             name  \\\n",
              "0           0             acne   \n",
              "1           1     appendicitis   \n",
              "2           2        arthritis   \n",
              "3           3           asthma   \n",
              "4           4  atherosclerosis   \n",
              "\n",
              "                                         description  \\\n",
              "0  Acne is a common skin condition that occurs wh...   \n",
              "1  Appendicitis is a condition where the appendix...   \n",
              "2  Arthritis is a condition where one or more joi...   \n",
              "3  Asthma is a chronic condition where the airway...   \n",
              "4  Atherosclerosis is a condition where plaque bu...   \n",
              "\n",
              "                                            symptoms  \\\n",
              "0  ['Blackheads', 'Whiteheads', 'Pimples', 'Cysts...   \n",
              "1  ['Pain in the lower right side of the abdomen'...   \n",
              "2  ['Joint pain and stiffness', 'Swelling and red...   \n",
              "3  ['Wheezing', 'Coughing', 'Shortness of breath'...   \n",
              "4  ['Chest pain', 'Shortness of breath', 'Weaknes...   \n",
              "\n",
              "                                          treatments  \n",
              "0  ['Topical creams and gels containing benzoyl p...  \n",
              "1  ['Surgery to remove the appendix', 'Antibiotic...  \n",
              "2  ['Pain medication', 'Anti-inflammatory drugs',...  \n",
              "3  ['Bronchodilators to open up the airways', 'Co...  \n",
              "4  ['Lifestyle changes such as quitting smoking a...  "
            ],
            "text/html": [
              "\n",
              "  <div id=\"df-3797c1c5-fb4c-4581-8279-a27fc7046ba6\">\n",
              "    <div class=\"colab-df-container\">\n",
              "      <div>\n",
              "<style scoped>\n",
              "    .dataframe tbody tr th:only-of-type {\n",
              "        vertical-align: middle;\n",
              "    }\n",
              "\n",
              "    .dataframe tbody tr th {\n",
              "        vertical-align: top;\n",
              "    }\n",
              "\n",
              "    .dataframe thead th {\n",
              "        text-align: right;\n",
              "    }\n",
              "</style>\n",
              "<table border=\"1\" class=\"dataframe\">\n",
              "  <thead>\n",
              "    <tr style=\"text-align: right;\">\n",
              "      <th></th>\n",
              "      <th>Unnamed: 0</th>\n",
              "      <th>name</th>\n",
              "      <th>description</th>\n",
              "      <th>symptoms</th>\n",
              "      <th>treatments</th>\n",
              "    </tr>\n",
              "  </thead>\n",
              "  <tbody>\n",
              "    <tr>\n",
              "      <th>0</th>\n",
              "      <td>0</td>\n",
              "      <td>acne</td>\n",
              "      <td>Acne is a common skin condition that occurs wh...</td>\n",
              "      <td>['Blackheads', 'Whiteheads', 'Pimples', 'Cysts...</td>\n",
              "      <td>['Topical creams and gels containing benzoyl p...</td>\n",
              "    </tr>\n",
              "    <tr>\n",
              "      <th>1</th>\n",
              "      <td>1</td>\n",
              "      <td>appendicitis</td>\n",
              "      <td>Appendicitis is a condition where the appendix...</td>\n",
              "      <td>['Pain in the lower right side of the abdomen'...</td>\n",
              "      <td>['Surgery to remove the appendix', 'Antibiotic...</td>\n",
              "    </tr>\n",
              "    <tr>\n",
              "      <th>2</th>\n",
              "      <td>2</td>\n",
              "      <td>arthritis</td>\n",
              "      <td>Arthritis is a condition where one or more joi...</td>\n",
              "      <td>['Joint pain and stiffness', 'Swelling and red...</td>\n",
              "      <td>['Pain medication', 'Anti-inflammatory drugs',...</td>\n",
              "    </tr>\n",
              "    <tr>\n",
              "      <th>3</th>\n",
              "      <td>3</td>\n",
              "      <td>asthma</td>\n",
              "      <td>Asthma is a chronic condition where the airway...</td>\n",
              "      <td>['Wheezing', 'Coughing', 'Shortness of breath'...</td>\n",
              "      <td>['Bronchodilators to open up the airways', 'Co...</td>\n",
              "    </tr>\n",
              "    <tr>\n",
              "      <th>4</th>\n",
              "      <td>4</td>\n",
              "      <td>atherosclerosis</td>\n",
              "      <td>Atherosclerosis is a condition where plaque bu...</td>\n",
              "      <td>['Chest pain', 'Shortness of breath', 'Weaknes...</td>\n",
              "      <td>['Lifestyle changes such as quitting smoking a...</td>\n",
              "    </tr>\n",
              "  </tbody>\n",
              "</table>\n",
              "</div>\n",
              "      <button class=\"colab-df-convert\" onclick=\"convertToInteractive('df-3797c1c5-fb4c-4581-8279-a27fc7046ba6')\"\n",
              "              title=\"Convert this dataframe to an interactive table.\"\n",
              "              style=\"display:none;\">\n",
              "        \n",
              "  <svg xmlns=\"http://www.w3.org/2000/svg\" height=\"24px\"viewBox=\"0 0 24 24\"\n",
              "       width=\"24px\">\n",
              "    <path d=\"M0 0h24v24H0V0z\" fill=\"none\"/>\n",
              "    <path d=\"M18.56 5.44l.94 2.06.94-2.06 2.06-.94-2.06-.94-.94-2.06-.94 2.06-2.06.94zm-11 1L8.5 8.5l.94-2.06 2.06-.94-2.06-.94L8.5 2.5l-.94 2.06-2.06.94zm10 10l.94 2.06.94-2.06 2.06-.94-2.06-.94-.94-2.06-.94 2.06-2.06.94z\"/><path d=\"M17.41 7.96l-1.37-1.37c-.4-.4-.92-.59-1.43-.59-.52 0-1.04.2-1.43.59L10.3 9.45l-7.72 7.72c-.78.78-.78 2.05 0 2.83L4 21.41c.39.39.9.59 1.41.59.51 0 1.02-.2 1.41-.59l7.78-7.78 2.81-2.81c.8-.78.8-2.07 0-2.86zM5.41 20L4 18.59l7.72-7.72 1.47 1.35L5.41 20z\"/>\n",
              "  </svg>\n",
              "      </button>\n",
              "      \n",
              "  <style>\n",
              "    .colab-df-container {\n",
              "      display:flex;\n",
              "      flex-wrap:wrap;\n",
              "      gap: 12px;\n",
              "    }\n",
              "\n",
              "    .colab-df-convert {\n",
              "      background-color: #E8F0FE;\n",
              "      border: none;\n",
              "      border-radius: 50%;\n",
              "      cursor: pointer;\n",
              "      display: none;\n",
              "      fill: #1967D2;\n",
              "      height: 32px;\n",
              "      padding: 0 0 0 0;\n",
              "      width: 32px;\n",
              "    }\n",
              "\n",
              "    .colab-df-convert:hover {\n",
              "      background-color: #E2EBFA;\n",
              "      box-shadow: 0px 1px 2px rgba(60, 64, 67, 0.3), 0px 1px 3px 1px rgba(60, 64, 67, 0.15);\n",
              "      fill: #174EA6;\n",
              "    }\n",
              "\n",
              "    [theme=dark] .colab-df-convert {\n",
              "      background-color: #3B4455;\n",
              "      fill: #D2E3FC;\n",
              "    }\n",
              "\n",
              "    [theme=dark] .colab-df-convert:hover {\n",
              "      background-color: #434B5C;\n",
              "      box-shadow: 0px 1px 3px 1px rgba(0, 0, 0, 0.15);\n",
              "      filter: drop-shadow(0px 1px 2px rgba(0, 0, 0, 0.3));\n",
              "      fill: #FFFFFF;\n",
              "    }\n",
              "  </style>\n",
              "\n",
              "      <script>\n",
              "        const buttonEl =\n",
              "          document.querySelector('#df-3797c1c5-fb4c-4581-8279-a27fc7046ba6 button.colab-df-convert');\n",
              "        buttonEl.style.display =\n",
              "          google.colab.kernel.accessAllowed ? 'block' : 'none';\n",
              "\n",
              "        async function convertToInteractive(key) {\n",
              "          const element = document.querySelector('#df-3797c1c5-fb4c-4581-8279-a27fc7046ba6');\n",
              "          const dataTable =\n",
              "            await google.colab.kernel.invokeFunction('convertToInteractive',\n",
              "                                                     [key], {});\n",
              "          if (!dataTable) return;\n",
              "\n",
              "          const docLinkHtml = 'Like what you see? Visit the ' +\n",
              "            '<a target=\"_blank\" href=https://colab.research.google.com/notebooks/data_table.ipynb>data table notebook</a>'\n",
              "            + ' to learn more about interactive tables.';\n",
              "          element.innerHTML = '';\n",
              "          dataTable['output_type'] = 'display_data';\n",
              "          await google.colab.output.renderOutput(dataTable, element);\n",
              "          const docLink = document.createElement('div');\n",
              "          docLink.innerHTML = docLinkHtml;\n",
              "          element.appendChild(docLink);\n",
              "        }\n",
              "      </script>\n",
              "    </div>\n",
              "  </div>\n",
              "  "
            ]
          },
          "metadata": {},
          "execution_count": 3
        }
      ],
      "source": [
        "df1.head()"
      ]
    },
    {
      "cell_type": "code",
      "source": [
        "df1.drop(columns='Unnamed: 0', inplace=True)\n",
        "df1.rename(columns={'name': 'Disease'}, inplace=True)"
      ],
      "metadata": {
        "id": "XO7eOg0ai5EE"
      },
      "id": "XO7eOg0ai5EE",
      "execution_count": 4,
      "outputs": []
    },
    {
      "cell_type": "code",
      "source": [
        "df1.shape, df2.shape"
      ],
      "metadata": {
        "colab": {
          "base_uri": "https://localhost:8080/"
        },
        "id": "kmD2Fp2FRxHm",
        "outputId": "57d1fe35-18cf-4701-ab2d-01031acef568"
      },
      "id": "kmD2Fp2FRxHm",
      "execution_count": 5,
      "outputs": [
        {
          "output_type": "execute_result",
          "data": {
            "text/plain": [
              "((268, 4), (41, 2))"
            ]
          },
          "metadata": {},
          "execution_count": 5
        }
      ]
    },
    {
      "cell_type": "code",
      "execution_count": 6,
      "id": "a8141435",
      "metadata": {
        "id": "a8141435",
        "outputId": "7902f449-5cdb-4cad-fec0-308a99c24e55",
        "colab": {
          "base_uri": "https://localhost:8080/",
          "height": 206
        }
      },
      "outputs": [
        {
          "output_type": "execute_result",
          "data": {
            "text/plain": [
              "          Disease                                        Description\n",
              "0   Drug Reaction  An adverse drug reaction (ADR) is an injury ca...\n",
              "1         Malaria  An infectious disease caused by protozoan para...\n",
              "2         Allergy  An allergy is an immune system response to a f...\n",
              "3  Hypothyroidism  Hypothyroidism, also called underactive thyroi...\n",
              "4       Psoriasis  Psoriasis is a common skin disorder that forms..."
            ],
            "text/html": [
              "\n",
              "  <div id=\"df-9293d357-72b7-47e6-bba7-9a5be98b6f8b\">\n",
              "    <div class=\"colab-df-container\">\n",
              "      <div>\n",
              "<style scoped>\n",
              "    .dataframe tbody tr th:only-of-type {\n",
              "        vertical-align: middle;\n",
              "    }\n",
              "\n",
              "    .dataframe tbody tr th {\n",
              "        vertical-align: top;\n",
              "    }\n",
              "\n",
              "    .dataframe thead th {\n",
              "        text-align: right;\n",
              "    }\n",
              "</style>\n",
              "<table border=\"1\" class=\"dataframe\">\n",
              "  <thead>\n",
              "    <tr style=\"text-align: right;\">\n",
              "      <th></th>\n",
              "      <th>Disease</th>\n",
              "      <th>Description</th>\n",
              "    </tr>\n",
              "  </thead>\n",
              "  <tbody>\n",
              "    <tr>\n",
              "      <th>0</th>\n",
              "      <td>Drug Reaction</td>\n",
              "      <td>An adverse drug reaction (ADR) is an injury ca...</td>\n",
              "    </tr>\n",
              "    <tr>\n",
              "      <th>1</th>\n",
              "      <td>Malaria</td>\n",
              "      <td>An infectious disease caused by protozoan para...</td>\n",
              "    </tr>\n",
              "    <tr>\n",
              "      <th>2</th>\n",
              "      <td>Allergy</td>\n",
              "      <td>An allergy is an immune system response to a f...</td>\n",
              "    </tr>\n",
              "    <tr>\n",
              "      <th>3</th>\n",
              "      <td>Hypothyroidism</td>\n",
              "      <td>Hypothyroidism, also called underactive thyroi...</td>\n",
              "    </tr>\n",
              "    <tr>\n",
              "      <th>4</th>\n",
              "      <td>Psoriasis</td>\n",
              "      <td>Psoriasis is a common skin disorder that forms...</td>\n",
              "    </tr>\n",
              "  </tbody>\n",
              "</table>\n",
              "</div>\n",
              "      <button class=\"colab-df-convert\" onclick=\"convertToInteractive('df-9293d357-72b7-47e6-bba7-9a5be98b6f8b')\"\n",
              "              title=\"Convert this dataframe to an interactive table.\"\n",
              "              style=\"display:none;\">\n",
              "        \n",
              "  <svg xmlns=\"http://www.w3.org/2000/svg\" height=\"24px\"viewBox=\"0 0 24 24\"\n",
              "       width=\"24px\">\n",
              "    <path d=\"M0 0h24v24H0V0z\" fill=\"none\"/>\n",
              "    <path d=\"M18.56 5.44l.94 2.06.94-2.06 2.06-.94-2.06-.94-.94-2.06-.94 2.06-2.06.94zm-11 1L8.5 8.5l.94-2.06 2.06-.94-2.06-.94L8.5 2.5l-.94 2.06-2.06.94zm10 10l.94 2.06.94-2.06 2.06-.94-2.06-.94-.94-2.06-.94 2.06-2.06.94z\"/><path d=\"M17.41 7.96l-1.37-1.37c-.4-.4-.92-.59-1.43-.59-.52 0-1.04.2-1.43.59L10.3 9.45l-7.72 7.72c-.78.78-.78 2.05 0 2.83L4 21.41c.39.39.9.59 1.41.59.51 0 1.02-.2 1.41-.59l7.78-7.78 2.81-2.81c.8-.78.8-2.07 0-2.86zM5.41 20L4 18.59l7.72-7.72 1.47 1.35L5.41 20z\"/>\n",
              "  </svg>\n",
              "      </button>\n",
              "      \n",
              "  <style>\n",
              "    .colab-df-container {\n",
              "      display:flex;\n",
              "      flex-wrap:wrap;\n",
              "      gap: 12px;\n",
              "    }\n",
              "\n",
              "    .colab-df-convert {\n",
              "      background-color: #E8F0FE;\n",
              "      border: none;\n",
              "      border-radius: 50%;\n",
              "      cursor: pointer;\n",
              "      display: none;\n",
              "      fill: #1967D2;\n",
              "      height: 32px;\n",
              "      padding: 0 0 0 0;\n",
              "      width: 32px;\n",
              "    }\n",
              "\n",
              "    .colab-df-convert:hover {\n",
              "      background-color: #E2EBFA;\n",
              "      box-shadow: 0px 1px 2px rgba(60, 64, 67, 0.3), 0px 1px 3px 1px rgba(60, 64, 67, 0.15);\n",
              "      fill: #174EA6;\n",
              "    }\n",
              "\n",
              "    [theme=dark] .colab-df-convert {\n",
              "      background-color: #3B4455;\n",
              "      fill: #D2E3FC;\n",
              "    }\n",
              "\n",
              "    [theme=dark] .colab-df-convert:hover {\n",
              "      background-color: #434B5C;\n",
              "      box-shadow: 0px 1px 3px 1px rgba(0, 0, 0, 0.15);\n",
              "      filter: drop-shadow(0px 1px 2px rgba(0, 0, 0, 0.3));\n",
              "      fill: #FFFFFF;\n",
              "    }\n",
              "  </style>\n",
              "\n",
              "      <script>\n",
              "        const buttonEl =\n",
              "          document.querySelector('#df-9293d357-72b7-47e6-bba7-9a5be98b6f8b button.colab-df-convert');\n",
              "        buttonEl.style.display =\n",
              "          google.colab.kernel.accessAllowed ? 'block' : 'none';\n",
              "\n",
              "        async function convertToInteractive(key) {\n",
              "          const element = document.querySelector('#df-9293d357-72b7-47e6-bba7-9a5be98b6f8b');\n",
              "          const dataTable =\n",
              "            await google.colab.kernel.invokeFunction('convertToInteractive',\n",
              "                                                     [key], {});\n",
              "          if (!dataTable) return;\n",
              "\n",
              "          const docLinkHtml = 'Like what you see? Visit the ' +\n",
              "            '<a target=\"_blank\" href=https://colab.research.google.com/notebooks/data_table.ipynb>data table notebook</a>'\n",
              "            + ' to learn more about interactive tables.';\n",
              "          element.innerHTML = '';\n",
              "          dataTable['output_type'] = 'display_data';\n",
              "          await google.colab.output.renderOutput(dataTable, element);\n",
              "          const docLink = document.createElement('div');\n",
              "          docLink.innerHTML = docLinkHtml;\n",
              "          element.appendChild(docLink);\n",
              "        }\n",
              "      </script>\n",
              "    </div>\n",
              "  </div>\n",
              "  "
            ]
          },
          "metadata": {},
          "execution_count": 6
        }
      ],
      "source": [
        "df2.head()"
      ]
    },
    {
      "cell_type": "code",
      "source": [
        "df2['Disease'] = df2['Disease'].str.lower()"
      ],
      "metadata": {
        "id": "42I151D3wgMT"
      },
      "id": "42I151D3wgMT",
      "execution_count": 7,
      "outputs": []
    },
    {
      "cell_type": "code",
      "source": [
        "merged_df = pd.merge(df1, df2, on='Disease', how='outer')\n",
        "merged_df.shape"
      ],
      "metadata": {
        "colab": {
          "base_uri": "https://localhost:8080/"
        },
        "id": "l25QPy5Jk88a",
        "outputId": "315165ce-18a9-4216-bd8c-1ae734a1e8b5"
      },
      "id": "l25QPy5Jk88a",
      "execution_count": 8,
      "outputs": [
        {
          "output_type": "execute_result",
          "data": {
            "text/plain": [
              "(292, 5)"
            ]
          },
          "metadata": {},
          "execution_count": 8
        }
      ]
    },
    {
      "cell_type": "code",
      "execution_count": 9,
      "id": "91c62545",
      "metadata": {
        "scrolled": true,
        "id": "91c62545",
        "outputId": "c5575159-76e9-4738-a756-c195c9c1802c",
        "colab": {
          "base_uri": "https://localhost:8080/"
        }
      },
      "outputs": [
        {
          "output_type": "stream",
          "name": "stdout",
          "text": [
            "<class 'pandas.core.frame.DataFrame'>\n",
            "Int64Index: 292 entries, 0 to 291\n",
            "Data columns (total 4 columns):\n",
            " #   Column       Non-Null Count  Dtype \n",
            "---  ------       --------------  ----- \n",
            " 0   Disease      292 non-null    object\n",
            " 1   symptoms     268 non-null    object\n",
            " 2   treatments   268 non-null    object\n",
            " 3   Description  292 non-null    object\n",
            "dtypes: object(4)\n",
            "memory usage: 11.4+ KB\n"
          ]
        }
      ],
      "source": [
        "# Create a new column \"Description\" and fill it with non-null values from the available columns\n",
        "merged_df['Description'] = merged_df['Description'].fillna(merged_df['description'])\n",
        "\n",
        "# Drop unnecessary columns\n",
        "merged_df.drop(columns=['description'], inplace=True)\n",
        "merged_df.info()"
      ]
    },
    {
      "cell_type": "code",
      "execution_count": 10,
      "id": "ed000bbc",
      "metadata": {
        "id": "ed000bbc",
        "outputId": "eeb9455c-6179-4546-aa73-a66fa90ba421",
        "colab": {
          "base_uri": "https://localhost:8080/",
          "height": 424
        }
      },
      "outputs": [
        {
          "output_type": "execute_result",
          "data": {
            "text/plain": [
              "           Disease                                           symptoms  \\\n",
              "0             acne  ['Blackheads', 'Whiteheads', 'Pimples', 'Cysts...   \n",
              "1     appendicitis  ['Pain in the lower right side of the abdomen'...   \n",
              "2        arthritis  ['Joint pain and stiffness', 'Swelling and red...   \n",
              "3           asthma  ['Wheezing', 'Coughing', 'Shortness of breath'...   \n",
              "4  atherosclerosis  ['Chest pain', 'Shortness of breath', 'Weaknes...   \n",
              "\n",
              "                                          treatments  \\\n",
              "0  ['Topical creams and gels containing benzoyl p...   \n",
              "1  ['Surgery to remove the appendix', 'Antibiotic...   \n",
              "2  ['Pain medication', 'Anti-inflammatory drugs',...   \n",
              "3  ['Bronchodilators to open up the airways', 'Co...   \n",
              "4  ['Lifestyle changes such as quitting smoking a...   \n",
              "\n",
              "                                         Description  \\\n",
              "0  Acne vulgaris is the formation of comedones, p...   \n",
              "1  Appendicitis is a condition where the appendix...   \n",
              "2  Arthritis is the swelling and tenderness of on...   \n",
              "3  Asthma is a chronic condition where the airway...   \n",
              "4  Atherosclerosis is a condition where plaque bu...   \n",
              "\n",
              "                                            Symptoms  \\\n",
              "0    blackheads, whiteheads, pimples, cysts, nodules   \n",
              "1  pain in the lower right side of the abdomen, n...   \n",
              "2  joint pain and stiffness, swelling and redness...   \n",
              "3  wheezing, coughing, shortness of breath, chest...   \n",
              "4  chest pain, shortness of breath, weakness or n...   \n",
              "\n",
              "                                          Treatments  \n",
              "0  topical creams and gels containing benzoyl per...  \n",
              "1  surgery to remove the appendix, antibiotics to...  \n",
              "2  pain medication, anti-inflammatory drugs, phys...  \n",
              "3  bronchodilators to open up the airways, cortic...  \n",
              "4  lifestyle changes such as quitting smoking and...  "
            ],
            "text/html": [
              "\n",
              "  <div id=\"df-f647f1d9-6ef5-4b98-9fc4-2ed21cdfaaf7\">\n",
              "    <div class=\"colab-df-container\">\n",
              "      <div>\n",
              "<style scoped>\n",
              "    .dataframe tbody tr th:only-of-type {\n",
              "        vertical-align: middle;\n",
              "    }\n",
              "\n",
              "    .dataframe tbody tr th {\n",
              "        vertical-align: top;\n",
              "    }\n",
              "\n",
              "    .dataframe thead th {\n",
              "        text-align: right;\n",
              "    }\n",
              "</style>\n",
              "<table border=\"1\" class=\"dataframe\">\n",
              "  <thead>\n",
              "    <tr style=\"text-align: right;\">\n",
              "      <th></th>\n",
              "      <th>Disease</th>\n",
              "      <th>symptoms</th>\n",
              "      <th>treatments</th>\n",
              "      <th>Description</th>\n",
              "      <th>Symptoms</th>\n",
              "      <th>Treatments</th>\n",
              "    </tr>\n",
              "  </thead>\n",
              "  <tbody>\n",
              "    <tr>\n",
              "      <th>0</th>\n",
              "      <td>acne</td>\n",
              "      <td>['Blackheads', 'Whiteheads', 'Pimples', 'Cysts...</td>\n",
              "      <td>['Topical creams and gels containing benzoyl p...</td>\n",
              "      <td>Acne vulgaris is the formation of comedones, p...</td>\n",
              "      <td>blackheads, whiteheads, pimples, cysts, nodules</td>\n",
              "      <td>topical creams and gels containing benzoyl per...</td>\n",
              "    </tr>\n",
              "    <tr>\n",
              "      <th>1</th>\n",
              "      <td>appendicitis</td>\n",
              "      <td>['Pain in the lower right side of the abdomen'...</td>\n",
              "      <td>['Surgery to remove the appendix', 'Antibiotic...</td>\n",
              "      <td>Appendicitis is a condition where the appendix...</td>\n",
              "      <td>pain in the lower right side of the abdomen, n...</td>\n",
              "      <td>surgery to remove the appendix, antibiotics to...</td>\n",
              "    </tr>\n",
              "    <tr>\n",
              "      <th>2</th>\n",
              "      <td>arthritis</td>\n",
              "      <td>['Joint pain and stiffness', 'Swelling and red...</td>\n",
              "      <td>['Pain medication', 'Anti-inflammatory drugs',...</td>\n",
              "      <td>Arthritis is the swelling and tenderness of on...</td>\n",
              "      <td>joint pain and stiffness, swelling and redness...</td>\n",
              "      <td>pain medication, anti-inflammatory drugs, phys...</td>\n",
              "    </tr>\n",
              "    <tr>\n",
              "      <th>3</th>\n",
              "      <td>asthma</td>\n",
              "      <td>['Wheezing', 'Coughing', 'Shortness of breath'...</td>\n",
              "      <td>['Bronchodilators to open up the airways', 'Co...</td>\n",
              "      <td>Asthma is a chronic condition where the airway...</td>\n",
              "      <td>wheezing, coughing, shortness of breath, chest...</td>\n",
              "      <td>bronchodilators to open up the airways, cortic...</td>\n",
              "    </tr>\n",
              "    <tr>\n",
              "      <th>4</th>\n",
              "      <td>atherosclerosis</td>\n",
              "      <td>['Chest pain', 'Shortness of breath', 'Weaknes...</td>\n",
              "      <td>['Lifestyle changes such as quitting smoking a...</td>\n",
              "      <td>Atherosclerosis is a condition where plaque bu...</td>\n",
              "      <td>chest pain, shortness of breath, weakness or n...</td>\n",
              "      <td>lifestyle changes such as quitting smoking and...</td>\n",
              "    </tr>\n",
              "  </tbody>\n",
              "</table>\n",
              "</div>\n",
              "      <button class=\"colab-df-convert\" onclick=\"convertToInteractive('df-f647f1d9-6ef5-4b98-9fc4-2ed21cdfaaf7')\"\n",
              "              title=\"Convert this dataframe to an interactive table.\"\n",
              "              style=\"display:none;\">\n",
              "        \n",
              "  <svg xmlns=\"http://www.w3.org/2000/svg\" height=\"24px\"viewBox=\"0 0 24 24\"\n",
              "       width=\"24px\">\n",
              "    <path d=\"M0 0h24v24H0V0z\" fill=\"none\"/>\n",
              "    <path d=\"M18.56 5.44l.94 2.06.94-2.06 2.06-.94-2.06-.94-.94-2.06-.94 2.06-2.06.94zm-11 1L8.5 8.5l.94-2.06 2.06-.94-2.06-.94L8.5 2.5l-.94 2.06-2.06.94zm10 10l.94 2.06.94-2.06 2.06-.94-2.06-.94-.94-2.06-.94 2.06-2.06.94z\"/><path d=\"M17.41 7.96l-1.37-1.37c-.4-.4-.92-.59-1.43-.59-.52 0-1.04.2-1.43.59L10.3 9.45l-7.72 7.72c-.78.78-.78 2.05 0 2.83L4 21.41c.39.39.9.59 1.41.59.51 0 1.02-.2 1.41-.59l7.78-7.78 2.81-2.81c.8-.78.8-2.07 0-2.86zM5.41 20L4 18.59l7.72-7.72 1.47 1.35L5.41 20z\"/>\n",
              "  </svg>\n",
              "      </button>\n",
              "      \n",
              "  <style>\n",
              "    .colab-df-container {\n",
              "      display:flex;\n",
              "      flex-wrap:wrap;\n",
              "      gap: 12px;\n",
              "    }\n",
              "\n",
              "    .colab-df-convert {\n",
              "      background-color: #E8F0FE;\n",
              "      border: none;\n",
              "      border-radius: 50%;\n",
              "      cursor: pointer;\n",
              "      display: none;\n",
              "      fill: #1967D2;\n",
              "      height: 32px;\n",
              "      padding: 0 0 0 0;\n",
              "      width: 32px;\n",
              "    }\n",
              "\n",
              "    .colab-df-convert:hover {\n",
              "      background-color: #E2EBFA;\n",
              "      box-shadow: 0px 1px 2px rgba(60, 64, 67, 0.3), 0px 1px 3px 1px rgba(60, 64, 67, 0.15);\n",
              "      fill: #174EA6;\n",
              "    }\n",
              "\n",
              "    [theme=dark] .colab-df-convert {\n",
              "      background-color: #3B4455;\n",
              "      fill: #D2E3FC;\n",
              "    }\n",
              "\n",
              "    [theme=dark] .colab-df-convert:hover {\n",
              "      background-color: #434B5C;\n",
              "      box-shadow: 0px 1px 3px 1px rgba(0, 0, 0, 0.15);\n",
              "      filter: drop-shadow(0px 1px 2px rgba(0, 0, 0, 0.3));\n",
              "      fill: #FFFFFF;\n",
              "    }\n",
              "  </style>\n",
              "\n",
              "      <script>\n",
              "        const buttonEl =\n",
              "          document.querySelector('#df-f647f1d9-6ef5-4b98-9fc4-2ed21cdfaaf7 button.colab-df-convert');\n",
              "        buttonEl.style.display =\n",
              "          google.colab.kernel.accessAllowed ? 'block' : 'none';\n",
              "\n",
              "        async function convertToInteractive(key) {\n",
              "          const element = document.querySelector('#df-f647f1d9-6ef5-4b98-9fc4-2ed21cdfaaf7');\n",
              "          const dataTable =\n",
              "            await google.colab.kernel.invokeFunction('convertToInteractive',\n",
              "                                                     [key], {});\n",
              "          if (!dataTable) return;\n",
              "\n",
              "          const docLinkHtml = 'Like what you see? Visit the ' +\n",
              "            '<a target=\"_blank\" href=https://colab.research.google.com/notebooks/data_table.ipynb>data table notebook</a>'\n",
              "            + ' to learn more about interactive tables.';\n",
              "          element.innerHTML = '';\n",
              "          dataTable['output_type'] = 'display_data';\n",
              "          await google.colab.output.renderOutput(dataTable, element);\n",
              "          const docLink = document.createElement('div');\n",
              "          docLink.innerHTML = docLinkHtml;\n",
              "          element.appendChild(docLink);\n",
              "        }\n",
              "      </script>\n",
              "    </div>\n",
              "  </div>\n",
              "  "
            ]
          },
          "metadata": {},
          "execution_count": 10
        }
      ],
      "source": [
        "# Remove brackets, single quotes, and any other characters except commas from \"Symptoms\" and \"Treatments\" columns\n",
        "merged_df['Symptoms'] = merged_df['symptoms'].apply(lambda x: x.strip(\"[]\").lower().replace(\"'\", \"\").replace(\"/\", \"\") if isinstance(x, str) else np.nan)\n",
        "merged_df['Treatments'] = merged_df['treatments'].apply(lambda x: x.strip(\"[]\").lower().replace(\"'\", \"\").replace(\"/\", \"\") if isinstance(x, str) else np.nan)\n",
        "merged_df.head()"
      ]
    },
    {
      "cell_type": "code",
      "source": [
        "disease_df = merged_df.drop(columns=['symptoms', 'treatments'])\n",
        "disease_df.head()"
      ],
      "metadata": {
        "colab": {
          "base_uri": "https://localhost:8080/",
          "height": 337
        },
        "id": "_hxELQ0eC7K4",
        "outputId": "dfb3eb83-f60b-4793-c7d8-a49697e905fb"
      },
      "id": "_hxELQ0eC7K4",
      "execution_count": 11,
      "outputs": [
        {
          "output_type": "execute_result",
          "data": {
            "text/plain": [
              "           Disease                                        Description  \\\n",
              "0             acne  Acne vulgaris is the formation of comedones, p...   \n",
              "1     appendicitis  Appendicitis is a condition where the appendix...   \n",
              "2        arthritis  Arthritis is the swelling and tenderness of on...   \n",
              "3           asthma  Asthma is a chronic condition where the airway...   \n",
              "4  atherosclerosis  Atherosclerosis is a condition where plaque bu...   \n",
              "\n",
              "                                            Symptoms  \\\n",
              "0    blackheads, whiteheads, pimples, cysts, nodules   \n",
              "1  pain in the lower right side of the abdomen, n...   \n",
              "2  joint pain and stiffness, swelling and redness...   \n",
              "3  wheezing, coughing, shortness of breath, chest...   \n",
              "4  chest pain, shortness of breath, weakness or n...   \n",
              "\n",
              "                                          Treatments  \n",
              "0  topical creams and gels containing benzoyl per...  \n",
              "1  surgery to remove the appendix, antibiotics to...  \n",
              "2  pain medication, anti-inflammatory drugs, phys...  \n",
              "3  bronchodilators to open up the airways, cortic...  \n",
              "4  lifestyle changes such as quitting smoking and...  "
            ],
            "text/html": [
              "\n",
              "  <div id=\"df-728f741d-3910-4d6b-93af-eefc55410bc0\">\n",
              "    <div class=\"colab-df-container\">\n",
              "      <div>\n",
              "<style scoped>\n",
              "    .dataframe tbody tr th:only-of-type {\n",
              "        vertical-align: middle;\n",
              "    }\n",
              "\n",
              "    .dataframe tbody tr th {\n",
              "        vertical-align: top;\n",
              "    }\n",
              "\n",
              "    .dataframe thead th {\n",
              "        text-align: right;\n",
              "    }\n",
              "</style>\n",
              "<table border=\"1\" class=\"dataframe\">\n",
              "  <thead>\n",
              "    <tr style=\"text-align: right;\">\n",
              "      <th></th>\n",
              "      <th>Disease</th>\n",
              "      <th>Description</th>\n",
              "      <th>Symptoms</th>\n",
              "      <th>Treatments</th>\n",
              "    </tr>\n",
              "  </thead>\n",
              "  <tbody>\n",
              "    <tr>\n",
              "      <th>0</th>\n",
              "      <td>acne</td>\n",
              "      <td>Acne vulgaris is the formation of comedones, p...</td>\n",
              "      <td>blackheads, whiteheads, pimples, cysts, nodules</td>\n",
              "      <td>topical creams and gels containing benzoyl per...</td>\n",
              "    </tr>\n",
              "    <tr>\n",
              "      <th>1</th>\n",
              "      <td>appendicitis</td>\n",
              "      <td>Appendicitis is a condition where the appendix...</td>\n",
              "      <td>pain in the lower right side of the abdomen, n...</td>\n",
              "      <td>surgery to remove the appendix, antibiotics to...</td>\n",
              "    </tr>\n",
              "    <tr>\n",
              "      <th>2</th>\n",
              "      <td>arthritis</td>\n",
              "      <td>Arthritis is the swelling and tenderness of on...</td>\n",
              "      <td>joint pain and stiffness, swelling and redness...</td>\n",
              "      <td>pain medication, anti-inflammatory drugs, phys...</td>\n",
              "    </tr>\n",
              "    <tr>\n",
              "      <th>3</th>\n",
              "      <td>asthma</td>\n",
              "      <td>Asthma is a chronic condition where the airway...</td>\n",
              "      <td>wheezing, coughing, shortness of breath, chest...</td>\n",
              "      <td>bronchodilators to open up the airways, cortic...</td>\n",
              "    </tr>\n",
              "    <tr>\n",
              "      <th>4</th>\n",
              "      <td>atherosclerosis</td>\n",
              "      <td>Atherosclerosis is a condition where plaque bu...</td>\n",
              "      <td>chest pain, shortness of breath, weakness or n...</td>\n",
              "      <td>lifestyle changes such as quitting smoking and...</td>\n",
              "    </tr>\n",
              "  </tbody>\n",
              "</table>\n",
              "</div>\n",
              "      <button class=\"colab-df-convert\" onclick=\"convertToInteractive('df-728f741d-3910-4d6b-93af-eefc55410bc0')\"\n",
              "              title=\"Convert this dataframe to an interactive table.\"\n",
              "              style=\"display:none;\">\n",
              "        \n",
              "  <svg xmlns=\"http://www.w3.org/2000/svg\" height=\"24px\"viewBox=\"0 0 24 24\"\n",
              "       width=\"24px\">\n",
              "    <path d=\"M0 0h24v24H0V0z\" fill=\"none\"/>\n",
              "    <path d=\"M18.56 5.44l.94 2.06.94-2.06 2.06-.94-2.06-.94-.94-2.06-.94 2.06-2.06.94zm-11 1L8.5 8.5l.94-2.06 2.06-.94-2.06-.94L8.5 2.5l-.94 2.06-2.06.94zm10 10l.94 2.06.94-2.06 2.06-.94-2.06-.94-.94-2.06-.94 2.06-2.06.94z\"/><path d=\"M17.41 7.96l-1.37-1.37c-.4-.4-.92-.59-1.43-.59-.52 0-1.04.2-1.43.59L10.3 9.45l-7.72 7.72c-.78.78-.78 2.05 0 2.83L4 21.41c.39.39.9.59 1.41.59.51 0 1.02-.2 1.41-.59l7.78-7.78 2.81-2.81c.8-.78.8-2.07 0-2.86zM5.41 20L4 18.59l7.72-7.72 1.47 1.35L5.41 20z\"/>\n",
              "  </svg>\n",
              "      </button>\n",
              "      \n",
              "  <style>\n",
              "    .colab-df-container {\n",
              "      display:flex;\n",
              "      flex-wrap:wrap;\n",
              "      gap: 12px;\n",
              "    }\n",
              "\n",
              "    .colab-df-convert {\n",
              "      background-color: #E8F0FE;\n",
              "      border: none;\n",
              "      border-radius: 50%;\n",
              "      cursor: pointer;\n",
              "      display: none;\n",
              "      fill: #1967D2;\n",
              "      height: 32px;\n",
              "      padding: 0 0 0 0;\n",
              "      width: 32px;\n",
              "    }\n",
              "\n",
              "    .colab-df-convert:hover {\n",
              "      background-color: #E2EBFA;\n",
              "      box-shadow: 0px 1px 2px rgba(60, 64, 67, 0.3), 0px 1px 3px 1px rgba(60, 64, 67, 0.15);\n",
              "      fill: #174EA6;\n",
              "    }\n",
              "\n",
              "    [theme=dark] .colab-df-convert {\n",
              "      background-color: #3B4455;\n",
              "      fill: #D2E3FC;\n",
              "    }\n",
              "\n",
              "    [theme=dark] .colab-df-convert:hover {\n",
              "      background-color: #434B5C;\n",
              "      box-shadow: 0px 1px 3px 1px rgba(0, 0, 0, 0.15);\n",
              "      filter: drop-shadow(0px 1px 2px rgba(0, 0, 0, 0.3));\n",
              "      fill: #FFFFFF;\n",
              "    }\n",
              "  </style>\n",
              "\n",
              "      <script>\n",
              "        const buttonEl =\n",
              "          document.querySelector('#df-728f741d-3910-4d6b-93af-eefc55410bc0 button.colab-df-convert');\n",
              "        buttonEl.style.display =\n",
              "          google.colab.kernel.accessAllowed ? 'block' : 'none';\n",
              "\n",
              "        async function convertToInteractive(key) {\n",
              "          const element = document.querySelector('#df-728f741d-3910-4d6b-93af-eefc55410bc0');\n",
              "          const dataTable =\n",
              "            await google.colab.kernel.invokeFunction('convertToInteractive',\n",
              "                                                     [key], {});\n",
              "          if (!dataTable) return;\n",
              "\n",
              "          const docLinkHtml = 'Like what you see? Visit the ' +\n",
              "            '<a target=\"_blank\" href=https://colab.research.google.com/notebooks/data_table.ipynb>data table notebook</a>'\n",
              "            + ' to learn more about interactive tables.';\n",
              "          element.innerHTML = '';\n",
              "          dataTable['output_type'] = 'display_data';\n",
              "          await google.colab.output.renderOutput(dataTable, element);\n",
              "          const docLink = document.createElement('div');\n",
              "          docLink.innerHTML = docLinkHtml;\n",
              "          element.appendChild(docLink);\n",
              "        }\n",
              "      </script>\n",
              "    </div>\n",
              "  </div>\n",
              "  "
            ]
          },
          "metadata": {},
          "execution_count": 11
        }
      ]
    },
    {
      "cell_type": "code",
      "source": [
        "corona_descr = 'COVID-19 is the disease caused by a new coronavirus called SARS-CoV-2. It is a kind of virus that causes an infection in your nose, sinuses, or upper throat. The most recently discovered coronavirus causes coronavirus disease COVID-19.'\n",
        "corona_sympt = '''Fever\n",
        "Dry cough\n",
        "Fatigue\n",
        "Loss of taste or smell\n",
        "Nasal congestion\n",
        "Conjunctivitis (also known as red eyes)\n",
        "Sore throat\n",
        "Headache\n",
        "Muscle or joint pain\n",
        "Different types of skin rash\n",
        "Nausea or vomiting\n",
        "Diarrhea\n",
        "Chills or dizziness'''\n",
        "corona_symptoms = ', '.join([item.lower() for item in corona_sympt.split('\\n')])\n",
        "corona_treatment = '''Getting enough rest, staying well hydrated, and taking medications to relieve fever and aches and pains.\n",
        "Communication with a treating physician and promptly report in case of any worsening.\n",
        "FDA approved medicines like Remdesivir, Paxlovid, Molnupiravir, Tocilizumab'''\n",
        "corona_treatment = ', '.join([item.lower() for item in corona_treatment.split('\\n')])"
      ],
      "metadata": {
        "id": "222_WA24aunk"
      },
      "id": "222_WA24aunk",
      "execution_count": 12,
      "outputs": []
    },
    {
      "cell_type": "code",
      "source": [
        "# Create a dictionary with the data for the new row\n",
        "new_row = {\n",
        "    'Disease': 'covid-19',\n",
        "    'Symptoms': corona_symptoms,\n",
        "    'Treatments': corona_treatment,\n",
        "    'Description': corona_descr\n",
        "}\n",
        "\n",
        "# Convert the dictionary to a DataFrame\n",
        "new_row_df = pd.DataFrame(new_row, index=[0])\n",
        "\n",
        "# Append the new row to the original DataFrame\n",
        "disease_df = disease_df.append(new_row_df, ignore_index=True)\n",
        "disease_df[disease_df['Disease'] == 'covid-19']"
      ],
      "metadata": {
        "colab": {
          "base_uri": "https://localhost:8080/",
          "height": 198
        },
        "id": "MX6Bm6_LxJzq",
        "outputId": "cac9df15-cfa3-4fbe-9758-0b0c5f4771e0"
      },
      "id": "MX6Bm6_LxJzq",
      "execution_count": 13,
      "outputs": [
        {
          "output_type": "stream",
          "name": "stderr",
          "text": [
            "<ipython-input-13-402788f3a62d>:13: FutureWarning: The frame.append method is deprecated and will be removed from pandas in a future version. Use pandas.concat instead.\n",
            "  disease_df = disease_df.append(new_row_df, ignore_index=True)\n"
          ]
        },
        {
          "output_type": "execute_result",
          "data": {
            "text/plain": [
              "      Disease                                        Description  \\\n",
              "292  covid-19  COVID-19 is the disease caused by a new corona...   \n",
              "\n",
              "                                              Symptoms  \\\n",
              "292  fever, dry cough, fatigue, loss of taste or sm...   \n",
              "\n",
              "                                            Treatments  \n",
              "292  getting enough rest, staying well hydrated, an...  "
            ],
            "text/html": [
              "\n",
              "  <div id=\"df-b75f5c54-e158-4755-9227-44edc729da46\">\n",
              "    <div class=\"colab-df-container\">\n",
              "      <div>\n",
              "<style scoped>\n",
              "    .dataframe tbody tr th:only-of-type {\n",
              "        vertical-align: middle;\n",
              "    }\n",
              "\n",
              "    .dataframe tbody tr th {\n",
              "        vertical-align: top;\n",
              "    }\n",
              "\n",
              "    .dataframe thead th {\n",
              "        text-align: right;\n",
              "    }\n",
              "</style>\n",
              "<table border=\"1\" class=\"dataframe\">\n",
              "  <thead>\n",
              "    <tr style=\"text-align: right;\">\n",
              "      <th></th>\n",
              "      <th>Disease</th>\n",
              "      <th>Description</th>\n",
              "      <th>Symptoms</th>\n",
              "      <th>Treatments</th>\n",
              "    </tr>\n",
              "  </thead>\n",
              "  <tbody>\n",
              "    <tr>\n",
              "      <th>292</th>\n",
              "      <td>covid-19</td>\n",
              "      <td>COVID-19 is the disease caused by a new corona...</td>\n",
              "      <td>fever, dry cough, fatigue, loss of taste or sm...</td>\n",
              "      <td>getting enough rest, staying well hydrated, an...</td>\n",
              "    </tr>\n",
              "  </tbody>\n",
              "</table>\n",
              "</div>\n",
              "      <button class=\"colab-df-convert\" onclick=\"convertToInteractive('df-b75f5c54-e158-4755-9227-44edc729da46')\"\n",
              "              title=\"Convert this dataframe to an interactive table.\"\n",
              "              style=\"display:none;\">\n",
              "        \n",
              "  <svg xmlns=\"http://www.w3.org/2000/svg\" height=\"24px\"viewBox=\"0 0 24 24\"\n",
              "       width=\"24px\">\n",
              "    <path d=\"M0 0h24v24H0V0z\" fill=\"none\"/>\n",
              "    <path d=\"M18.56 5.44l.94 2.06.94-2.06 2.06-.94-2.06-.94-.94-2.06-.94 2.06-2.06.94zm-11 1L8.5 8.5l.94-2.06 2.06-.94-2.06-.94L8.5 2.5l-.94 2.06-2.06.94zm10 10l.94 2.06.94-2.06 2.06-.94-2.06-.94-.94-2.06-.94 2.06-2.06.94z\"/><path d=\"M17.41 7.96l-1.37-1.37c-.4-.4-.92-.59-1.43-.59-.52 0-1.04.2-1.43.59L10.3 9.45l-7.72 7.72c-.78.78-.78 2.05 0 2.83L4 21.41c.39.39.9.59 1.41.59.51 0 1.02-.2 1.41-.59l7.78-7.78 2.81-2.81c.8-.78.8-2.07 0-2.86zM5.41 20L4 18.59l7.72-7.72 1.47 1.35L5.41 20z\"/>\n",
              "  </svg>\n",
              "      </button>\n",
              "      \n",
              "  <style>\n",
              "    .colab-df-container {\n",
              "      display:flex;\n",
              "      flex-wrap:wrap;\n",
              "      gap: 12px;\n",
              "    }\n",
              "\n",
              "    .colab-df-convert {\n",
              "      background-color: #E8F0FE;\n",
              "      border: none;\n",
              "      border-radius: 50%;\n",
              "      cursor: pointer;\n",
              "      display: none;\n",
              "      fill: #1967D2;\n",
              "      height: 32px;\n",
              "      padding: 0 0 0 0;\n",
              "      width: 32px;\n",
              "    }\n",
              "\n",
              "    .colab-df-convert:hover {\n",
              "      background-color: #E2EBFA;\n",
              "      box-shadow: 0px 1px 2px rgba(60, 64, 67, 0.3), 0px 1px 3px 1px rgba(60, 64, 67, 0.15);\n",
              "      fill: #174EA6;\n",
              "    }\n",
              "\n",
              "    [theme=dark] .colab-df-convert {\n",
              "      background-color: #3B4455;\n",
              "      fill: #D2E3FC;\n",
              "    }\n",
              "\n",
              "    [theme=dark] .colab-df-convert:hover {\n",
              "      background-color: #434B5C;\n",
              "      box-shadow: 0px 1px 3px 1px rgba(0, 0, 0, 0.15);\n",
              "      filter: drop-shadow(0px 1px 2px rgba(0, 0, 0, 0.3));\n",
              "      fill: #FFFFFF;\n",
              "    }\n",
              "  </style>\n",
              "\n",
              "      <script>\n",
              "        const buttonEl =\n",
              "          document.querySelector('#df-b75f5c54-e158-4755-9227-44edc729da46 button.colab-df-convert');\n",
              "        buttonEl.style.display =\n",
              "          google.colab.kernel.accessAllowed ? 'block' : 'none';\n",
              "\n",
              "        async function convertToInteractive(key) {\n",
              "          const element = document.querySelector('#df-b75f5c54-e158-4755-9227-44edc729da46');\n",
              "          const dataTable =\n",
              "            await google.colab.kernel.invokeFunction('convertToInteractive',\n",
              "                                                     [key], {});\n",
              "          if (!dataTable) return;\n",
              "\n",
              "          const docLinkHtml = 'Like what you see? Visit the ' +\n",
              "            '<a target=\"_blank\" href=https://colab.research.google.com/notebooks/data_table.ipynb>data table notebook</a>'\n",
              "            + ' to learn more about interactive tables.';\n",
              "          element.innerHTML = '';\n",
              "          dataTable['output_type'] = 'display_data';\n",
              "          await google.colab.output.renderOutput(dataTable, element);\n",
              "          const docLink = document.createElement('div');\n",
              "          docLink.innerHTML = docLinkHtml;\n",
              "          element.appendChild(docLink);\n",
              "        }\n",
              "      </script>\n",
              "    </div>\n",
              "  </div>\n",
              "  "
            ]
          },
          "metadata": {},
          "execution_count": 13
        }
      ]
    },
    {
      "cell_type": "code",
      "source": [
        "disease_df['Disease'] = disease_df['Disease'].str.strip()"
      ],
      "metadata": {
        "id": "E5B7SmuYQD31"
      },
      "id": "E5B7SmuYQD31",
      "execution_count": 14,
      "outputs": []
    },
    {
      "cell_type": "code",
      "source": [
        "df3= pd.read_csv('disease_symptoms.csv')\n",
        "df3['Disease'] = df3['Disease'].str.lower().str.strip()\n",
        "df3.drop_duplicates(subset='Disease', inplace=True)\n",
        "df3.shape"
      ],
      "metadata": {
        "colab": {
          "base_uri": "https://localhost:8080/"
        },
        "id": "jsHDaP3iaeP4",
        "outputId": "05c5234f-886b-4408-8297-8c8c6bda43a4"
      },
      "id": "jsHDaP3iaeP4",
      "execution_count": 15,
      "outputs": [
        {
          "output_type": "execute_result",
          "data": {
            "text/plain": [
              "(41, 18)"
            ]
          },
          "metadata": {},
          "execution_count": 15
        }
      ]
    },
    {
      "cell_type": "code",
      "execution_count": 16,
      "id": "2b266a05",
      "metadata": {
        "id": "2b266a05",
        "outputId": "ef31d568-c296-4883-d970-5e2908cd8ae2",
        "colab": {
          "base_uri": "https://localhost:8080/",
          "height": 206
        }
      },
      "outputs": [
        {
          "output_type": "execute_result",
          "data": {
            "text/plain": [
              "                Disease                                           Symptoms\n",
              "0      fungal infection  itching,  skin rash,  nodal skin eruptions,  d...\n",
              "10              allergy   continuous sneezing,  shivering,  chills,  wa...\n",
              "20                 gerd   stomach pain,  acidity,  ulcers on tongue,  v...\n",
              "30  chronic cholestasis  itching,  vomiting,  yellowish skin,  nausea, ...\n",
              "40        drug reaction  itching,  skin rash,  stomach pain,  burning m..."
            ],
            "text/html": [
              "\n",
              "  <div id=\"df-1edb913a-ef4e-4c85-bc52-14bfea433383\">\n",
              "    <div class=\"colab-df-container\">\n",
              "      <div>\n",
              "<style scoped>\n",
              "    .dataframe tbody tr th:only-of-type {\n",
              "        vertical-align: middle;\n",
              "    }\n",
              "\n",
              "    .dataframe tbody tr th {\n",
              "        vertical-align: top;\n",
              "    }\n",
              "\n",
              "    .dataframe thead th {\n",
              "        text-align: right;\n",
              "    }\n",
              "</style>\n",
              "<table border=\"1\" class=\"dataframe\">\n",
              "  <thead>\n",
              "    <tr style=\"text-align: right;\">\n",
              "      <th></th>\n",
              "      <th>Disease</th>\n",
              "      <th>Symptoms</th>\n",
              "    </tr>\n",
              "  </thead>\n",
              "  <tbody>\n",
              "    <tr>\n",
              "      <th>0</th>\n",
              "      <td>fungal infection</td>\n",
              "      <td>itching,  skin rash,  nodal skin eruptions,  d...</td>\n",
              "    </tr>\n",
              "    <tr>\n",
              "      <th>10</th>\n",
              "      <td>allergy</td>\n",
              "      <td>continuous sneezing,  shivering,  chills,  wa...</td>\n",
              "    </tr>\n",
              "    <tr>\n",
              "      <th>20</th>\n",
              "      <td>gerd</td>\n",
              "      <td>stomach pain,  acidity,  ulcers on tongue,  v...</td>\n",
              "    </tr>\n",
              "    <tr>\n",
              "      <th>30</th>\n",
              "      <td>chronic cholestasis</td>\n",
              "      <td>itching,  vomiting,  yellowish skin,  nausea, ...</td>\n",
              "    </tr>\n",
              "    <tr>\n",
              "      <th>40</th>\n",
              "      <td>drug reaction</td>\n",
              "      <td>itching,  skin rash,  stomach pain,  burning m...</td>\n",
              "    </tr>\n",
              "  </tbody>\n",
              "</table>\n",
              "</div>\n",
              "      <button class=\"colab-df-convert\" onclick=\"convertToInteractive('df-1edb913a-ef4e-4c85-bc52-14bfea433383')\"\n",
              "              title=\"Convert this dataframe to an interactive table.\"\n",
              "              style=\"display:none;\">\n",
              "        \n",
              "  <svg xmlns=\"http://www.w3.org/2000/svg\" height=\"24px\"viewBox=\"0 0 24 24\"\n",
              "       width=\"24px\">\n",
              "    <path d=\"M0 0h24v24H0V0z\" fill=\"none\"/>\n",
              "    <path d=\"M18.56 5.44l.94 2.06.94-2.06 2.06-.94-2.06-.94-.94-2.06-.94 2.06-2.06.94zm-11 1L8.5 8.5l.94-2.06 2.06-.94-2.06-.94L8.5 2.5l-.94 2.06-2.06.94zm10 10l.94 2.06.94-2.06 2.06-.94-2.06-.94-.94-2.06-.94 2.06-2.06.94z\"/><path d=\"M17.41 7.96l-1.37-1.37c-.4-.4-.92-.59-1.43-.59-.52 0-1.04.2-1.43.59L10.3 9.45l-7.72 7.72c-.78.78-.78 2.05 0 2.83L4 21.41c.39.39.9.59 1.41.59.51 0 1.02-.2 1.41-.59l7.78-7.78 2.81-2.81c.8-.78.8-2.07 0-2.86zM5.41 20L4 18.59l7.72-7.72 1.47 1.35L5.41 20z\"/>\n",
              "  </svg>\n",
              "      </button>\n",
              "      \n",
              "  <style>\n",
              "    .colab-df-container {\n",
              "      display:flex;\n",
              "      flex-wrap:wrap;\n",
              "      gap: 12px;\n",
              "    }\n",
              "\n",
              "    .colab-df-convert {\n",
              "      background-color: #E8F0FE;\n",
              "      border: none;\n",
              "      border-radius: 50%;\n",
              "      cursor: pointer;\n",
              "      display: none;\n",
              "      fill: #1967D2;\n",
              "      height: 32px;\n",
              "      padding: 0 0 0 0;\n",
              "      width: 32px;\n",
              "    }\n",
              "\n",
              "    .colab-df-convert:hover {\n",
              "      background-color: #E2EBFA;\n",
              "      box-shadow: 0px 1px 2px rgba(60, 64, 67, 0.3), 0px 1px 3px 1px rgba(60, 64, 67, 0.15);\n",
              "      fill: #174EA6;\n",
              "    }\n",
              "\n",
              "    [theme=dark] .colab-df-convert {\n",
              "      background-color: #3B4455;\n",
              "      fill: #D2E3FC;\n",
              "    }\n",
              "\n",
              "    [theme=dark] .colab-df-convert:hover {\n",
              "      background-color: #434B5C;\n",
              "      box-shadow: 0px 1px 3px 1px rgba(0, 0, 0, 0.15);\n",
              "      filter: drop-shadow(0px 1px 2px rgba(0, 0, 0, 0.3));\n",
              "      fill: #FFFFFF;\n",
              "    }\n",
              "  </style>\n",
              "\n",
              "      <script>\n",
              "        const buttonEl =\n",
              "          document.querySelector('#df-1edb913a-ef4e-4c85-bc52-14bfea433383 button.colab-df-convert');\n",
              "        buttonEl.style.display =\n",
              "          google.colab.kernel.accessAllowed ? 'block' : 'none';\n",
              "\n",
              "        async function convertToInteractive(key) {\n",
              "          const element = document.querySelector('#df-1edb913a-ef4e-4c85-bc52-14bfea433383');\n",
              "          const dataTable =\n",
              "            await google.colab.kernel.invokeFunction('convertToInteractive',\n",
              "                                                     [key], {});\n",
              "          if (!dataTable) return;\n",
              "\n",
              "          const docLinkHtml = 'Like what you see? Visit the ' +\n",
              "            '<a target=\"_blank\" href=https://colab.research.google.com/notebooks/data_table.ipynb>data table notebook</a>'\n",
              "            + ' to learn more about interactive tables.';\n",
              "          element.innerHTML = '';\n",
              "          dataTable['output_type'] = 'display_data';\n",
              "          await google.colab.output.renderOutput(dataTable, element);\n",
              "          const docLink = document.createElement('div');\n",
              "          docLink.innerHTML = docLinkHtml;\n",
              "          element.appendChild(docLink);\n",
              "        }\n",
              "      </script>\n",
              "    </div>\n",
              "  </div>\n",
              "  "
            ]
          },
          "metadata": {},
          "execution_count": 16
        }
      ],
      "source": [
        "for col in df3.columns[1:]:\n",
        "  df3[col] = df3[col].str.replace('_', ' ')\n",
        "\n",
        "df3['Symptoms'] = df3[['Symptom_1', 'Symptom_2', 'Symptom_3', 'Symptom_4', 'Symptom_5', 'Symptom_6', \n",
        "                      'Symptom_7', 'Symptom_8', 'Symptom_9', 'Symptom_10', 'Symptom_11', 'Symptom_12', \n",
        "                      'Symptom_13', 'Symptom_14', 'Symptom_15', 'Symptom_16', 'Symptom_17']].apply(lambda x: ', '.join(x.dropna()), axis=1)\n",
        "\n",
        "df3 = df3[['Disease', 'Symptoms']]\n",
        "df3.head()                    "
      ]
    },
    {
      "cell_type": "code",
      "source": [
        "df_precaution = pd.read_csv('symptom_precaution.csv')\n",
        "for col in df_precaution.columns[1:]:\n",
        "  df_precaution[col] = df_precaution[col].str.lower()"
      ],
      "metadata": {
        "id": "6Rf8dsJo8KI7"
      },
      "id": "6Rf8dsJo8KI7",
      "execution_count": 17,
      "outputs": []
    },
    {
      "cell_type": "code",
      "source": [
        "df_precaution['Disease'] = df_precaution['Disease'].str.lower()\n",
        "df_precaution['Treatments'] = df_precaution[['Precaution_1', 'Precaution_2', 'Precaution_3',\n",
        "                                             'Precaution_4']].apply(lambda x: ', '.join(x.dropna()), axis=1)\n",
        "df_precaution = df_precaution[['Disease', 'Treatments']]                                    "
      ],
      "metadata": {
        "id": "dvOLfiGr8pYL"
      },
      "id": "dvOLfiGr8pYL",
      "execution_count": 18,
      "outputs": []
    },
    {
      "cell_type": "code",
      "source": [
        "df_precaution.drop_duplicates(subset='Disease', inplace=True)"
      ],
      "metadata": {
        "id": "xr76gs2DBESp"
      },
      "id": "xr76gs2DBESp",
      "execution_count": 19,
      "outputs": []
    },
    {
      "cell_type": "code",
      "source": [
        "df_precaution['Disease'] = df_precaution['Disease'].str.strip()"
      ],
      "metadata": {
        "id": "31dxfH_sQv5I"
      },
      "id": "31dxfH_sQv5I",
      "execution_count": 20,
      "outputs": []
    },
    {
      "cell_type": "code",
      "source": [
        "df_precaution.shape, df3.shape"
      ],
      "metadata": {
        "colab": {
          "base_uri": "https://localhost:8080/"
        },
        "id": "qGTyI69bDUZn",
        "outputId": "603407ee-f871-46eb-e21a-46e8c6e63444"
      },
      "id": "qGTyI69bDUZn",
      "execution_count": 21,
      "outputs": [
        {
          "output_type": "execute_result",
          "data": {
            "text/plain": [
              "((41, 2), (41, 2))"
            ]
          },
          "metadata": {},
          "execution_count": 21
        }
      ]
    },
    {
      "cell_type": "code",
      "source": [
        "new_merge = pd.merge(df_precaution, df3, on='Disease', how='outer')\n",
        "new_merge.drop_duplicates(subset='Disease', inplace=True)\n",
        "new_merge.shape"
      ],
      "metadata": {
        "colab": {
          "base_uri": "https://localhost:8080/"
        },
        "id": "5BcuxLL5C-Hq",
        "outputId": "f91ceb10-ad72-4340-a983-d5441008f3e4"
      },
      "id": "5BcuxLL5C-Hq",
      "execution_count": 22,
      "outputs": [
        {
          "output_type": "execute_result",
          "data": {
            "text/plain": [
              "(41, 3)"
            ]
          },
          "metadata": {},
          "execution_count": 22
        }
      ]
    },
    {
      "cell_type": "code",
      "source": [
        "disease_df.shape, new_merge.shape"
      ],
      "metadata": {
        "colab": {
          "base_uri": "https://localhost:8080/"
        },
        "id": "YgC90l8-EhaA",
        "outputId": "07c0c1e5-667b-4dbf-83c9-562beac0fb00"
      },
      "id": "YgC90l8-EhaA",
      "execution_count": 23,
      "outputs": [
        {
          "output_type": "execute_result",
          "data": {
            "text/plain": [
              "((293, 4), (41, 3))"
            ]
          },
          "metadata": {},
          "execution_count": 23
        }
      ]
    },
    {
      "cell_type": "code",
      "source": [
        "big_merge = pd.merge(disease_df, new_merge, on='Disease', how='outer')\n",
        "big_merge.shape"
      ],
      "metadata": {
        "colab": {
          "base_uri": "https://localhost:8080/"
        },
        "id": "ct-s72LNESFK",
        "outputId": "147583cf-02a8-4187-a136-e109ee14c904"
      },
      "id": "ct-s72LNESFK",
      "execution_count": 24,
      "outputs": [
        {
          "output_type": "execute_result",
          "data": {
            "text/plain": [
              "(294, 6)"
            ]
          },
          "metadata": {},
          "execution_count": 24
        }
      ]
    },
    {
      "cell_type": "code",
      "source": [
        "big_merge.info()"
      ],
      "metadata": {
        "colab": {
          "base_uri": "https://localhost:8080/"
        },
        "id": "EdgpnnLvD9uL",
        "outputId": "edb4782c-38ae-4507-f2bf-14f45ce0f376"
      },
      "id": "EdgpnnLvD9uL",
      "execution_count": 25,
      "outputs": [
        {
          "output_type": "stream",
          "name": "stdout",
          "text": [
            "<class 'pandas.core.frame.DataFrame'>\n",
            "Int64Index: 294 entries, 0 to 293\n",
            "Data columns (total 6 columns):\n",
            " #   Column        Non-Null Count  Dtype \n",
            "---  ------        --------------  ----- \n",
            " 0   Disease       294 non-null    object\n",
            " 1   Description   293 non-null    object\n",
            " 2   Symptoms_x    269 non-null    object\n",
            " 3   Treatments_x  269 non-null    object\n",
            " 4   Treatments_y  41 non-null     object\n",
            " 5   Symptoms_y    41 non-null     object\n",
            "dtypes: object(6)\n",
            "memory usage: 16.1+ KB\n"
          ]
        }
      ]
    },
    {
      "cell_type": "code",
      "source": [
        "big_merge['Symptoms'] = big_merge['Symptoms_x'].fillna(big_merge['Symptoms_y'])\n",
        "big_merge['Treatments'] = big_merge['Treatments_x'].fillna(big_merge['Treatments_y'])\n",
        "diseases_db = big_merge[['Disease', 'Description', 'Symptoms', 'Treatments']]\n",
        "diseases_db.info()"
      ],
      "metadata": {
        "colab": {
          "base_uri": "https://localhost:8080/"
        },
        "id": "qBYdB22zDqsO",
        "outputId": "60a5c4d2-d6c3-439b-fb16-c95355a99964"
      },
      "id": "qBYdB22zDqsO",
      "execution_count": 26,
      "outputs": [
        {
          "output_type": "stream",
          "name": "stdout",
          "text": [
            "<class 'pandas.core.frame.DataFrame'>\n",
            "Int64Index: 294 entries, 0 to 293\n",
            "Data columns (total 4 columns):\n",
            " #   Column       Non-Null Count  Dtype \n",
            "---  ------       --------------  ----- \n",
            " 0   Disease      294 non-null    object\n",
            " 1   Description  293 non-null    object\n",
            " 2   Symptoms     293 non-null    object\n",
            " 3   Treatments   293 non-null    object\n",
            "dtypes: object(4)\n",
            "memory usage: 11.5+ KB\n"
          ]
        }
      ]
    },
    {
      "cell_type": "code",
      "source": [
        "diseases_db[diseases_db.isna().any(axis=1)]"
      ],
      "metadata": {
        "colab": {
          "base_uri": "https://localhost:8080/",
          "height": 191
        },
        "id": "5QsW8W5M7eU5",
        "outputId": "1e6b492a-3d3f-47e3-b595-62df6854ab75"
      },
      "id": "5QsW8W5M7eU5",
      "execution_count": 27,
      "outputs": [
        {
          "output_type": "execute_result",
          "data": {
            "text/plain": [
              "                          Disease  \\\n",
              "278  dimorphic hemorrhoids(piles)   \n",
              "293  dimorphic hemmorhoids(piles)   \n",
              "\n",
              "                                           Description  \\\n",
              "278  Hemorrhoids, also spelled haemorrhoids, are va...   \n",
              "293                                                NaN   \n",
              "\n",
              "                                              Symptoms  \\\n",
              "278                                                NaN   \n",
              "293   constipation,  pain during bowel movements,  ...   \n",
              "\n",
              "                                            Treatments  \n",
              "278                                                NaN  \n",
              "293  avoid fatty spicy food, consume witch hazel, w...  "
            ],
            "text/html": [
              "\n",
              "  <div id=\"df-233dc731-b211-4a99-85ce-cd9f7202ca65\">\n",
              "    <div class=\"colab-df-container\">\n",
              "      <div>\n",
              "<style scoped>\n",
              "    .dataframe tbody tr th:only-of-type {\n",
              "        vertical-align: middle;\n",
              "    }\n",
              "\n",
              "    .dataframe tbody tr th {\n",
              "        vertical-align: top;\n",
              "    }\n",
              "\n",
              "    .dataframe thead th {\n",
              "        text-align: right;\n",
              "    }\n",
              "</style>\n",
              "<table border=\"1\" class=\"dataframe\">\n",
              "  <thead>\n",
              "    <tr style=\"text-align: right;\">\n",
              "      <th></th>\n",
              "      <th>Disease</th>\n",
              "      <th>Description</th>\n",
              "      <th>Symptoms</th>\n",
              "      <th>Treatments</th>\n",
              "    </tr>\n",
              "  </thead>\n",
              "  <tbody>\n",
              "    <tr>\n",
              "      <th>278</th>\n",
              "      <td>dimorphic hemorrhoids(piles)</td>\n",
              "      <td>Hemorrhoids, also spelled haemorrhoids, are va...</td>\n",
              "      <td>NaN</td>\n",
              "      <td>NaN</td>\n",
              "    </tr>\n",
              "    <tr>\n",
              "      <th>293</th>\n",
              "      <td>dimorphic hemmorhoids(piles)</td>\n",
              "      <td>NaN</td>\n",
              "      <td>constipation,  pain during bowel movements,  ...</td>\n",
              "      <td>avoid fatty spicy food, consume witch hazel, w...</td>\n",
              "    </tr>\n",
              "  </tbody>\n",
              "</table>\n",
              "</div>\n",
              "      <button class=\"colab-df-convert\" onclick=\"convertToInteractive('df-233dc731-b211-4a99-85ce-cd9f7202ca65')\"\n",
              "              title=\"Convert this dataframe to an interactive table.\"\n",
              "              style=\"display:none;\">\n",
              "        \n",
              "  <svg xmlns=\"http://www.w3.org/2000/svg\" height=\"24px\"viewBox=\"0 0 24 24\"\n",
              "       width=\"24px\">\n",
              "    <path d=\"M0 0h24v24H0V0z\" fill=\"none\"/>\n",
              "    <path d=\"M18.56 5.44l.94 2.06.94-2.06 2.06-.94-2.06-.94-.94-2.06-.94 2.06-2.06.94zm-11 1L8.5 8.5l.94-2.06 2.06-.94-2.06-.94L8.5 2.5l-.94 2.06-2.06.94zm10 10l.94 2.06.94-2.06 2.06-.94-2.06-.94-.94-2.06-.94 2.06-2.06.94z\"/><path d=\"M17.41 7.96l-1.37-1.37c-.4-.4-.92-.59-1.43-.59-.52 0-1.04.2-1.43.59L10.3 9.45l-7.72 7.72c-.78.78-.78 2.05 0 2.83L4 21.41c.39.39.9.59 1.41.59.51 0 1.02-.2 1.41-.59l7.78-7.78 2.81-2.81c.8-.78.8-2.07 0-2.86zM5.41 20L4 18.59l7.72-7.72 1.47 1.35L5.41 20z\"/>\n",
              "  </svg>\n",
              "      </button>\n",
              "      \n",
              "  <style>\n",
              "    .colab-df-container {\n",
              "      display:flex;\n",
              "      flex-wrap:wrap;\n",
              "      gap: 12px;\n",
              "    }\n",
              "\n",
              "    .colab-df-convert {\n",
              "      background-color: #E8F0FE;\n",
              "      border: none;\n",
              "      border-radius: 50%;\n",
              "      cursor: pointer;\n",
              "      display: none;\n",
              "      fill: #1967D2;\n",
              "      height: 32px;\n",
              "      padding: 0 0 0 0;\n",
              "      width: 32px;\n",
              "    }\n",
              "\n",
              "    .colab-df-convert:hover {\n",
              "      background-color: #E2EBFA;\n",
              "      box-shadow: 0px 1px 2px rgba(60, 64, 67, 0.3), 0px 1px 3px 1px rgba(60, 64, 67, 0.15);\n",
              "      fill: #174EA6;\n",
              "    }\n",
              "\n",
              "    [theme=dark] .colab-df-convert {\n",
              "      background-color: #3B4455;\n",
              "      fill: #D2E3FC;\n",
              "    }\n",
              "\n",
              "    [theme=dark] .colab-df-convert:hover {\n",
              "      background-color: #434B5C;\n",
              "      box-shadow: 0px 1px 3px 1px rgba(0, 0, 0, 0.15);\n",
              "      filter: drop-shadow(0px 1px 2px rgba(0, 0, 0, 0.3));\n",
              "      fill: #FFFFFF;\n",
              "    }\n",
              "  </style>\n",
              "\n",
              "      <script>\n",
              "        const buttonEl =\n",
              "          document.querySelector('#df-233dc731-b211-4a99-85ce-cd9f7202ca65 button.colab-df-convert');\n",
              "        buttonEl.style.display =\n",
              "          google.colab.kernel.accessAllowed ? 'block' : 'none';\n",
              "\n",
              "        async function convertToInteractive(key) {\n",
              "          const element = document.querySelector('#df-233dc731-b211-4a99-85ce-cd9f7202ca65');\n",
              "          const dataTable =\n",
              "            await google.colab.kernel.invokeFunction('convertToInteractive',\n",
              "                                                     [key], {});\n",
              "          if (!dataTable) return;\n",
              "\n",
              "          const docLinkHtml = 'Like what you see? Visit the ' +\n",
              "            '<a target=\"_blank\" href=https://colab.research.google.com/notebooks/data_table.ipynb>data table notebook</a>'\n",
              "            + ' to learn more about interactive tables.';\n",
              "          element.innerHTML = '';\n",
              "          dataTable['output_type'] = 'display_data';\n",
              "          await google.colab.output.renderOutput(dataTable, element);\n",
              "          const docLink = document.createElement('div');\n",
              "          docLink.innerHTML = docLinkHtml;\n",
              "          element.appendChild(docLink);\n",
              "        }\n",
              "      </script>\n",
              "    </div>\n",
              "  </div>\n",
              "  "
            ]
          },
          "metadata": {},
          "execution_count": 27
        }
      ]
    },
    {
      "cell_type": "code",
      "source": [
        "diseases_db.loc[293, 'Description'] = 'Hemorrhoids, also spelled haemorrhoids, are vascular structures in the anal canal.'\n",
        "diseases_db.loc[293, 'Disease'] = 'dimorphic hemorrhoids (piles)'"
      ],
      "metadata": {
        "colab": {
          "base_uri": "https://localhost:8080/"
        },
        "id": "s5wleyEzMER7",
        "outputId": "1f84c47e-5ae1-4160-ae59-0e0b1db9a560"
      },
      "id": "s5wleyEzMER7",
      "execution_count": 28,
      "outputs": [
        {
          "output_type": "stream",
          "name": "stderr",
          "text": [
            "<ipython-input-28-45e096426e19>:1: SettingWithCopyWarning: \n",
            "A value is trying to be set on a copy of a slice from a DataFrame\n",
            "\n",
            "See the caveats in the documentation: https://pandas.pydata.org/pandas-docs/stable/user_guide/indexing.html#returning-a-view-versus-a-copy\n",
            "  diseases_db.loc[293, 'Description'] = 'Hemorrhoids, also spelled haemorrhoids, are vascular structures in the anal canal.'\n",
            "<ipython-input-28-45e096426e19>:2: SettingWithCopyWarning: \n",
            "A value is trying to be set on a copy of a slice from a DataFrame\n",
            "\n",
            "See the caveats in the documentation: https://pandas.pydata.org/pandas-docs/stable/user_guide/indexing.html#returning-a-view-versus-a-copy\n",
            "  diseases_db.loc[293, 'Disease'] = 'dimorphic hemorrhoids (piles)'\n"
          ]
        }
      ]
    },
    {
      "cell_type": "code",
      "source": [
        "diseases_db.dropna(inplace=True)\n",
        "diseases_db.info()"
      ],
      "metadata": {
        "colab": {
          "base_uri": "https://localhost:8080/"
        },
        "id": "iz2n_V8TRNns",
        "outputId": "84e1920a-2a83-4b2a-c1c2-caf9fb423632"
      },
      "id": "iz2n_V8TRNns",
      "execution_count": 29,
      "outputs": [
        {
          "output_type": "stream",
          "name": "stdout",
          "text": [
            "<class 'pandas.core.frame.DataFrame'>\n",
            "Int64Index: 293 entries, 0 to 293\n",
            "Data columns (total 4 columns):\n",
            " #   Column       Non-Null Count  Dtype \n",
            "---  ------       --------------  ----- \n",
            " 0   Disease      293 non-null    object\n",
            " 1   Description  293 non-null    object\n",
            " 2   Symptoms     293 non-null    object\n",
            " 3   Treatments   293 non-null    object\n",
            "dtypes: object(4)\n",
            "memory usage: 11.4+ KB\n"
          ]
        },
        {
          "output_type": "stream",
          "name": "stderr",
          "text": [
            "<ipython-input-29-8c7d338c57c2>:1: SettingWithCopyWarning: \n",
            "A value is trying to be set on a copy of a slice from a DataFrame\n",
            "\n",
            "See the caveats in the documentation: https://pandas.pydata.org/pandas-docs/stable/user_guide/indexing.html#returning-a-view-versus-a-copy\n",
            "  diseases_db.dropna(inplace=True)\n"
          ]
        }
      ]
    },
    {
      "cell_type": "code",
      "source": [
        "diseases_db.loc[273, 'Disease'] = 'paroymsal positional vertigo (vertigo)'"
      ],
      "metadata": {
        "colab": {
          "base_uri": "https://localhost:8080/"
        },
        "id": "rR7sABNCRvun",
        "outputId": "baa63f9d-5408-437e-8c36-28c31bb4de63"
      },
      "id": "rR7sABNCRvun",
      "execution_count": 30,
      "outputs": [
        {
          "output_type": "stream",
          "name": "stderr",
          "text": [
            "<ipython-input-30-e8383812b229>:1: SettingWithCopyWarning: \n",
            "A value is trying to be set on a copy of a slice from a DataFrame\n",
            "\n",
            "See the caveats in the documentation: https://pandas.pydata.org/pandas-docs/stable/user_guide/indexing.html#returning-a-view-versus-a-copy\n",
            "  diseases_db.loc[273, 'Disease'] = 'paroymsal positional vertigo (vertigo)'\n"
          ]
        }
      ]
    },
    {
      "cell_type": "code",
      "source": [
        "diseases_db = diseases_db.sort_values('Disease')\n",
        "diseases_db"
      ],
      "metadata": {
        "colab": {
          "base_uri": "https://localhost:8080/",
          "height": 641
        },
        "id": "HNoY2GDaHc8g",
        "outputId": "4e5168c4-0d20-4abe-da51-188772d63efe"
      },
      "id": "HNoY2GDaHc8g",
      "execution_count": 31,
      "outputs": [
        {
          "output_type": "execute_result",
          "data": {
            "text/plain": [
              "                       Disease  \\\n",
              "0                         acne   \n",
              "238                adenoiditis   \n",
              "141                       aids   \n",
              "287        alcoholic hepatitis   \n",
              "269                    allergy   \n",
              "..                         ...   \n",
              "237  west nile virus infection   \n",
              "264                   whiplash   \n",
              "265           wilson's disease   \n",
              "266            yeast infection   \n",
              "267       zika virus infection   \n",
              "\n",
              "                                           Description  \\\n",
              "0    Acne vulgaris is the formation of comedones, p...   \n",
              "238  Adenoiditis is an inflammation of the adenoids...   \n",
              "141  Acquired immunodeficiency syndrome (AIDS) is a...   \n",
              "287  Alcoholic hepatitis is a diseased, inflammator...   \n",
              "269  An allergy is an immune system response to a f...   \n",
              "..                                                 ...   \n",
              "237  West Nile virus (WNV) is a viral infection tha...   \n",
              "264  Whiplash is a neck injury that occurs when the...   \n",
              "265  Wilson's disease is a rare genetic disorder th...   \n",
              "266  A yeast infection is a common fungal infection...   \n",
              "267  Zika virus is a mosquito-borne virus that can ...   \n",
              "\n",
              "                                              Symptoms  \\\n",
              "0      blackheads, whiteheads, pimples, cysts, nodules   \n",
              "238  difficulty breathing through the nose, snoring...   \n",
              "141  fever, fatigue, swollen lymph nodes, rapid wei...   \n",
              "287   vomiting,  yellowish skin,  abdominal pain,  ...   \n",
              "269   continuous sneezing,  shivering,  chills,  wa...   \n",
              "..                                                 ...   \n",
              "237  fever, headache, body aches, fatigue, back pai...   \n",
              "264  neck pain and stiffness, headache, shoulder pa...   \n",
              "265  fatigue, abdominal pain, jaundice, tremors, di...   \n",
              "266  vaginal itching, burning sensation during urin...   \n",
              "267  fever, rash, joint pain, red eyes (conjunctivi...   \n",
              "\n",
              "                                            Treatments  \n",
              "0    topical creams and gels containing benzoyl per...  \n",
              "238  antibiotics, nasal decongestants, surgery to r...  \n",
              "141  antiretroviral therapy, prophylaxis for opport...  \n",
              "287  stop alcohol consumption, consult doctor, medi...  \n",
              "269  apply calamine, cover area with bandage, use i...  \n",
              "..                                                 ...  \n",
              "237  there is no specific treatment for wnv infecti...  \n",
              "264  pain medication, physical therapy, chiropracti...  \n",
              "265  chelation therapy, zinc therapy, liver transpl...  \n",
              "266  antifungal creams, ointments, or suppositories...  \n",
              "267  rest, fluids, pain relievers, avoiding mosquit...  \n",
              "\n",
              "[293 rows x 4 columns]"
            ],
            "text/html": [
              "\n",
              "  <div id=\"df-5425bf20-271d-4cce-b4af-ad2b23ce4b92\">\n",
              "    <div class=\"colab-df-container\">\n",
              "      <div>\n",
              "<style scoped>\n",
              "    .dataframe tbody tr th:only-of-type {\n",
              "        vertical-align: middle;\n",
              "    }\n",
              "\n",
              "    .dataframe tbody tr th {\n",
              "        vertical-align: top;\n",
              "    }\n",
              "\n",
              "    .dataframe thead th {\n",
              "        text-align: right;\n",
              "    }\n",
              "</style>\n",
              "<table border=\"1\" class=\"dataframe\">\n",
              "  <thead>\n",
              "    <tr style=\"text-align: right;\">\n",
              "      <th></th>\n",
              "      <th>Disease</th>\n",
              "      <th>Description</th>\n",
              "      <th>Symptoms</th>\n",
              "      <th>Treatments</th>\n",
              "    </tr>\n",
              "  </thead>\n",
              "  <tbody>\n",
              "    <tr>\n",
              "      <th>0</th>\n",
              "      <td>acne</td>\n",
              "      <td>Acne vulgaris is the formation of comedones, p...</td>\n",
              "      <td>blackheads, whiteheads, pimples, cysts, nodules</td>\n",
              "      <td>topical creams and gels containing benzoyl per...</td>\n",
              "    </tr>\n",
              "    <tr>\n",
              "      <th>238</th>\n",
              "      <td>adenoiditis</td>\n",
              "      <td>Adenoiditis is an inflammation of the adenoids...</td>\n",
              "      <td>difficulty breathing through the nose, snoring...</td>\n",
              "      <td>antibiotics, nasal decongestants, surgery to r...</td>\n",
              "    </tr>\n",
              "    <tr>\n",
              "      <th>141</th>\n",
              "      <td>aids</td>\n",
              "      <td>Acquired immunodeficiency syndrome (AIDS) is a...</td>\n",
              "      <td>fever, fatigue, swollen lymph nodes, rapid wei...</td>\n",
              "      <td>antiretroviral therapy, prophylaxis for opport...</td>\n",
              "    </tr>\n",
              "    <tr>\n",
              "      <th>287</th>\n",
              "      <td>alcoholic hepatitis</td>\n",
              "      <td>Alcoholic hepatitis is a diseased, inflammator...</td>\n",
              "      <td>vomiting,  yellowish skin,  abdominal pain,  ...</td>\n",
              "      <td>stop alcohol consumption, consult doctor, medi...</td>\n",
              "    </tr>\n",
              "    <tr>\n",
              "      <th>269</th>\n",
              "      <td>allergy</td>\n",
              "      <td>An allergy is an immune system response to a f...</td>\n",
              "      <td>continuous sneezing,  shivering,  chills,  wa...</td>\n",
              "      <td>apply calamine, cover area with bandage, use i...</td>\n",
              "    </tr>\n",
              "    <tr>\n",
              "      <th>...</th>\n",
              "      <td>...</td>\n",
              "      <td>...</td>\n",
              "      <td>...</td>\n",
              "      <td>...</td>\n",
              "    </tr>\n",
              "    <tr>\n",
              "      <th>237</th>\n",
              "      <td>west nile virus infection</td>\n",
              "      <td>West Nile virus (WNV) is a viral infection tha...</td>\n",
              "      <td>fever, headache, body aches, fatigue, back pai...</td>\n",
              "      <td>there is no specific treatment for wnv infecti...</td>\n",
              "    </tr>\n",
              "    <tr>\n",
              "      <th>264</th>\n",
              "      <td>whiplash</td>\n",
              "      <td>Whiplash is a neck injury that occurs when the...</td>\n",
              "      <td>neck pain and stiffness, headache, shoulder pa...</td>\n",
              "      <td>pain medication, physical therapy, chiropracti...</td>\n",
              "    </tr>\n",
              "    <tr>\n",
              "      <th>265</th>\n",
              "      <td>wilson's disease</td>\n",
              "      <td>Wilson's disease is a rare genetic disorder th...</td>\n",
              "      <td>fatigue, abdominal pain, jaundice, tremors, di...</td>\n",
              "      <td>chelation therapy, zinc therapy, liver transpl...</td>\n",
              "    </tr>\n",
              "    <tr>\n",
              "      <th>266</th>\n",
              "      <td>yeast infection</td>\n",
              "      <td>A yeast infection is a common fungal infection...</td>\n",
              "      <td>vaginal itching, burning sensation during urin...</td>\n",
              "      <td>antifungal creams, ointments, or suppositories...</td>\n",
              "    </tr>\n",
              "    <tr>\n",
              "      <th>267</th>\n",
              "      <td>zika virus infection</td>\n",
              "      <td>Zika virus is a mosquito-borne virus that can ...</td>\n",
              "      <td>fever, rash, joint pain, red eyes (conjunctivi...</td>\n",
              "      <td>rest, fluids, pain relievers, avoiding mosquit...</td>\n",
              "    </tr>\n",
              "  </tbody>\n",
              "</table>\n",
              "<p>293 rows × 4 columns</p>\n",
              "</div>\n",
              "      <button class=\"colab-df-convert\" onclick=\"convertToInteractive('df-5425bf20-271d-4cce-b4af-ad2b23ce4b92')\"\n",
              "              title=\"Convert this dataframe to an interactive table.\"\n",
              "              style=\"display:none;\">\n",
              "        \n",
              "  <svg xmlns=\"http://www.w3.org/2000/svg\" height=\"24px\"viewBox=\"0 0 24 24\"\n",
              "       width=\"24px\">\n",
              "    <path d=\"M0 0h24v24H0V0z\" fill=\"none\"/>\n",
              "    <path d=\"M18.56 5.44l.94 2.06.94-2.06 2.06-.94-2.06-.94-.94-2.06-.94 2.06-2.06.94zm-11 1L8.5 8.5l.94-2.06 2.06-.94-2.06-.94L8.5 2.5l-.94 2.06-2.06.94zm10 10l.94 2.06.94-2.06 2.06-.94-2.06-.94-.94-2.06-.94 2.06-2.06.94z\"/><path d=\"M17.41 7.96l-1.37-1.37c-.4-.4-.92-.59-1.43-.59-.52 0-1.04.2-1.43.59L10.3 9.45l-7.72 7.72c-.78.78-.78 2.05 0 2.83L4 21.41c.39.39.9.59 1.41.59.51 0 1.02-.2 1.41-.59l7.78-7.78 2.81-2.81c.8-.78.8-2.07 0-2.86zM5.41 20L4 18.59l7.72-7.72 1.47 1.35L5.41 20z\"/>\n",
              "  </svg>\n",
              "      </button>\n",
              "      \n",
              "  <style>\n",
              "    .colab-df-container {\n",
              "      display:flex;\n",
              "      flex-wrap:wrap;\n",
              "      gap: 12px;\n",
              "    }\n",
              "\n",
              "    .colab-df-convert {\n",
              "      background-color: #E8F0FE;\n",
              "      border: none;\n",
              "      border-radius: 50%;\n",
              "      cursor: pointer;\n",
              "      display: none;\n",
              "      fill: #1967D2;\n",
              "      height: 32px;\n",
              "      padding: 0 0 0 0;\n",
              "      width: 32px;\n",
              "    }\n",
              "\n",
              "    .colab-df-convert:hover {\n",
              "      background-color: #E2EBFA;\n",
              "      box-shadow: 0px 1px 2px rgba(60, 64, 67, 0.3), 0px 1px 3px 1px rgba(60, 64, 67, 0.15);\n",
              "      fill: #174EA6;\n",
              "    }\n",
              "\n",
              "    [theme=dark] .colab-df-convert {\n",
              "      background-color: #3B4455;\n",
              "      fill: #D2E3FC;\n",
              "    }\n",
              "\n",
              "    [theme=dark] .colab-df-convert:hover {\n",
              "      background-color: #434B5C;\n",
              "      box-shadow: 0px 1px 3px 1px rgba(0, 0, 0, 0.15);\n",
              "      filter: drop-shadow(0px 1px 2px rgba(0, 0, 0, 0.3));\n",
              "      fill: #FFFFFF;\n",
              "    }\n",
              "  </style>\n",
              "\n",
              "      <script>\n",
              "        const buttonEl =\n",
              "          document.querySelector('#df-5425bf20-271d-4cce-b4af-ad2b23ce4b92 button.colab-df-convert');\n",
              "        buttonEl.style.display =\n",
              "          google.colab.kernel.accessAllowed ? 'block' : 'none';\n",
              "\n",
              "        async function convertToInteractive(key) {\n",
              "          const element = document.querySelector('#df-5425bf20-271d-4cce-b4af-ad2b23ce4b92');\n",
              "          const dataTable =\n",
              "            await google.colab.kernel.invokeFunction('convertToInteractive',\n",
              "                                                     [key], {});\n",
              "          if (!dataTable) return;\n",
              "\n",
              "          const docLinkHtml = 'Like what you see? Visit the ' +\n",
              "            '<a target=\"_blank\" href=https://colab.research.google.com/notebooks/data_table.ipynb>data table notebook</a>'\n",
              "            + ' to learn more about interactive tables.';\n",
              "          element.innerHTML = '';\n",
              "          dataTable['output_type'] = 'display_data';\n",
              "          await google.colab.output.renderOutput(dataTable, element);\n",
              "          const docLink = document.createElement('div');\n",
              "          docLink.innerHTML = docLinkHtml;\n",
              "          element.appendChild(docLink);\n",
              "        }\n",
              "      </script>\n",
              "    </div>\n",
              "  </div>\n",
              "  "
            ]
          },
          "metadata": {},
          "execution_count": 31
        }
      ]
    },
    {
      "cell_type": "code",
      "source": [
        "diseases_db.to_csv('diseases_db.csv', index=False)"
      ],
      "metadata": {
        "id": "vNEwuf2hSJu4"
      },
      "id": "vNEwuf2hSJu4",
      "execution_count": 33,
      "outputs": []
    },
    {
      "cell_type": "code",
      "source": [
        "disease_list = diseases_db['Disease'].tolist()"
      ],
      "metadata": {
        "id": "FiwYnQokelie"
      },
      "id": "FiwYnQokelie",
      "execution_count": 34,
      "outputs": []
    },
    {
      "cell_type": "code",
      "execution_count": 37,
      "id": "b68a2f19",
      "metadata": {
        "id": "b68a2f19"
      },
      "outputs": [],
      "source": [
        "import yaml\n",
        "\n",
        "data = {\n",
        "    \"examples\": disease_list,\n",
        "    \"lookup\": \"disease\",\n",
        "    \"nlu\": \"\"\n",
        "}\n",
        "\n",
        "with open('diseases.yml', 'w') as file:\n",
        "  yaml.dump(data, file)"
      ]
    }
  ],
  "metadata": {
    "kernelspec": {
      "display_name": "Python 3 (ipykernel)",
      "language": "python",
      "name": "python3"
    },
    "language_info": {
      "codemirror_mode": {
        "name": "ipython",
        "version": 3
      },
      "file_extension": ".py",
      "mimetype": "text/x-python",
      "name": "python",
      "nbconvert_exporter": "python",
      "pygments_lexer": "ipython3",
      "version": "3.9.13"
    },
    "colab": {
      "provenance": []
    }
  },
  "nbformat": 4,
  "nbformat_minor": 5
}